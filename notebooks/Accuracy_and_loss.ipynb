{
 "cells": [
  {
   "cell_type": "code",
   "execution_count": 28,
   "id": "f8769565-f73b-4479-869b-7d978a272c55",
   "metadata": {},
   "outputs": [],
   "source": [
    "from tensorflow.keras.models import Sequential\n",
    "from tensorflow.keras.layers import (Activation, BatchNormalization,\n",
    "                                     Convolution1D, Dense, Flatten,\n",
    "                                     Input)\n",
    "from tensorflow.keras.utils import to_categorical\n",
    "from tensorflow.keras.regularizers import l2\n",
    "from tensorflow.keras.optimizers import Adam\n",
    "from tensorflow.keras.callbacks import EarlyStopping\n",
    "\n",
    "from sklearn.utils.class_weight import compute_class_weight"
   ]
  },
  {
   "cell_type": "code",
   "execution_count": 20,
   "id": "17f8662e-b788-4fb3-a026-4a1e1d6fa429",
   "metadata": {},
   "outputs": [],
   "source": [
    "windows_file = \"/Users/lsantuari/Documents/Projects/GTCG/sv-channels/sv-channels_manuscript/DeepLift/HG00420_windows_en.npz\""
   ]
  },
  {
   "cell_type": "code",
   "execution_count": 29,
   "id": "4b309b47-ec94-49c5-a504-3405d38805e5",
   "metadata": {},
   "outputs": [
    {
     "name": "stderr",
     "output_type": "stream",
     "text": [
      "/Users/lsantuari/Applications/Programming/mambaforge/envs/jupyterlab/lib/python3.9/site-packages/sklearn/utils/validation.py:70: FutureWarning: Pass classes=[0 1], y=[1 0 1 ... 1 1 1] as keyword args. From version 1.0 (renaming of 0.25) passing these as positional arguments will result in an error\n",
      "  warnings.warn(f\"Pass {args_msg} as keyword args. From version \"\n"
     ]
    }
   ],
   "source": [
    "import numpy as np\n",
    "npzfile = np.load(windows_file, allow_pickle=True)\n",
    "X = npzfile['data']\n",
    "labels = npzfile['labels']\n",
    "labels = labels.item()\n",
    "\n",
    "svtype = 'DEL'\n",
    "mapclasses = {svtype: 0, 'no' + svtype: 1}\n",
    "y = np.array([mapclasses[i] for i in labels.values()])\n",
    "y_binary = to_categorical(y, num_classes=len(mapclasses.keys()))\n",
    "\n",
    "classes = np.array(np.unique(y))\n",
    "y_lab = np.asarray(y)\n",
    "class_weights = compute_class_weight('balanced', classes, y_lab)\n",
    "class_weights = {i: v for i, v in enumerate(class_weights)}"
   ]
  },
  {
   "cell_type": "code",
   "execution_count": 42,
   "id": "9e0196ca-956d-406b-817c-de4d0d010c46",
   "metadata": {},
   "outputs": [],
   "source": [
    "shape = X.shape[0:]\n",
    "outputdim = 2\n",
    "\n",
    "filters = 8#16\n",
    "layers = 1\n",
    "kernel_size = 8\n",
    "fc_nodes = 6#10\n",
    "learning_rate = 1e-04\n",
    "regularization_rate = 1.82357428e-04"
   ]
  },
  {
   "cell_type": "code",
   "execution_count": 43,
   "id": "36899710-4c9e-4ae7-942d-5c12f2ad2fc7",
   "metadata": {},
   "outputs": [],
   "source": [
    "def create_model(shape, outputdim, learning_rate, regularization_rate,\n",
    "                 filters, layers, kernel_size, fc_nodes):\n",
    "    weightinit = 'lecun_uniform'  # weight initialization\n",
    "\n",
    "    model = Sequential()\n",
    "\n",
    "    model.add(BatchNormalization(input_shape=(shape[1], shape[2])))\n",
    "\n",
    "    filters_list = [filters] * layers\n",
    "\n",
    "    for filter_number in filters_list:\n",
    "        model.add(\n",
    "            Convolution1D(filter_number,\n",
    "                          kernel_size=(kernel_size,),\n",
    "                          padding='same',\n",
    "                          kernel_regularizer=l2(regularization_rate),\n",
    "                          kernel_initializer=weightinit))\n",
    "        model.add(BatchNormalization())\n",
    "        model.add(Activation('relu'))\n",
    "\n",
    "    model.add(Flatten())\n",
    "\n",
    "    model.add(\n",
    "        Dense(units=fc_nodes,\n",
    "              kernel_regularizer=l2(regularization_rate),\n",
    "              kernel_initializer=weightinit))  # Fully connected layer\n",
    "    model.add(Activation('relu'))  # Relu activation\n",
    "\n",
    "    model.add(Dense(units=outputdim, kernel_initializer=weightinit))\n",
    "    model.add(BatchNormalization())\n",
    "    model.add(Activation(\"softmax\"))  # Final classification layer\n",
    "\n",
    "    model.compile(loss='categorical_crossentropy',\n",
    "                  optimizer=Adam(lr=learning_rate),\n",
    "                  metrics=['accuracy'])\n",
    "\n",
    "    return model"
   ]
  },
  {
   "cell_type": "code",
   "execution_count": 44,
   "id": "13580c74-8766-4a19-830c-3a4bd9d08cae",
   "metadata": {},
   "outputs": [],
   "source": [
    "model = create_model(shape, outputdim, learning_rate, regularization_rate,\n",
    "                 filters, layers, kernel_size, fc_nodes)"
   ]
  },
  {
   "cell_type": "code",
   "execution_count": 45,
   "id": "1998e1be-3f22-4864-85ad-7e61cea16754",
   "metadata": {},
   "outputs": [],
   "source": [
    "earlystop = EarlyStopping(monitor='val_loss',\n",
    "                          min_delta=0,\n",
    "                          patience=3,\n",
    "                          verbose=1,\n",
    "                          restore_best_weights=True)\n",
    "\n",
    "callbacks = [earlystop]"
   ]
  },
  {
   "cell_type": "code",
   "execution_count": 50,
   "id": "c3bfd19f-083a-4e39-bea2-88216b8500f0",
   "metadata": {},
   "outputs": [
    {
     "name": "stdout",
     "output_type": "stream",
     "text": [
      "Epoch 1/50\n",
      "170/170 [==============================] - 19s 112ms/step - loss: 0.1706 - accuracy: 0.9741 - val_loss: 0.4844 - val_accuracy: 0.7924\n",
      "Epoch 2/50\n",
      "170/170 [==============================] - 14s 82ms/step - loss: 0.1600 - accuracy: 0.9772 - val_loss: 0.4952 - val_accuracy: 0.7906\n",
      "Epoch 3/50\n",
      "170/170 [==============================] - 14s 80ms/step - loss: 0.1524 - accuracy: 0.9807 - val_loss: 0.3887 - val_accuracy: 0.8481\n",
      "Epoch 4/50\n",
      "170/170 [==============================] - 14s 82ms/step - loss: 0.1423 - accuracy: 0.9855 - val_loss: 0.3833 - val_accuracy: 0.8507\n",
      "Epoch 5/50\n",
      "170/170 [==============================] - 14s 84ms/step - loss: 0.1406 - accuracy: 0.9853 - val_loss: 0.3388 - val_accuracy: 0.8876\n",
      "Epoch 6/50\n",
      "170/170 [==============================] - 14s 81ms/step - loss: 0.1289 - accuracy: 0.9893 - val_loss: 0.3807 - val_accuracy: 0.8563\n",
      "Epoch 7/50\n",
      "170/170 [==============================] - 14s 83ms/step - loss: 0.1200 - accuracy: 0.9915 - val_loss: 0.4004 - val_accuracy: 0.8503\n",
      "Epoch 8/50\n",
      "170/170 [==============================] - 14s 81ms/step - loss: 0.1181 - accuracy: 0.9925 - val_loss: 0.4047 - val_accuracy: 0.8447\n",
      "Epoch 9/50\n",
      "170/170 [==============================] - 14s 81ms/step - loss: 0.1152 - accuracy: 0.9923 - val_loss: 0.3675 - val_accuracy: 0.8649\n",
      "Epoch 10/50\n",
      "170/170 [==============================] - 15s 87ms/step - loss: 0.1095 - accuracy: 0.9952 - val_loss: 0.3787 - val_accuracy: 0.8631\n",
      "Epoch 11/50\n",
      "170/170 [==============================] - 14s 82ms/step - loss: 0.1061 - accuracy: 0.9954 - val_loss: 0.3290 - val_accuracy: 0.8863\n",
      "Epoch 12/50\n",
      "170/170 [==============================] - 14s 85ms/step - loss: 0.0995 - accuracy: 0.9965 - val_loss: 0.3497 - val_accuracy: 0.8743\n",
      "Epoch 13/50\n",
      "170/170 [==============================] - 14s 80ms/step - loss: 0.0970 - accuracy: 0.9958 - val_loss: 0.3735 - val_accuracy: 0.8627\n",
      "Epoch 14/50\n",
      "170/170 [==============================] - 15s 87ms/step - loss: 0.0938 - accuracy: 0.9972 - val_loss: 0.3246 - val_accuracy: 0.8867\n",
      "Epoch 15/50\n",
      "170/170 [==============================] - 15s 90ms/step - loss: 0.0916 - accuracy: 0.9969 - val_loss: 0.3343 - val_accuracy: 0.8803\n",
      "Epoch 16/50\n",
      "170/170 [==============================] - 16s 94ms/step - loss: 0.0883 - accuracy: 0.9978 - val_loss: 0.3265 - val_accuracy: 0.8902\n",
      "Epoch 17/50\n",
      "170/170 [==============================] - 16s 91ms/step - loss: 0.0850 - accuracy: 0.9980 - val_loss: 0.3198 - val_accuracy: 0.8919\n",
      "Epoch 18/50\n",
      "170/170 [==============================] - 16s 91ms/step - loss: 0.0855 - accuracy: 0.9989 - val_loss: 0.3773 - val_accuracy: 0.8589\n",
      "Epoch 19/50\n",
      "170/170 [==============================] - 15s 89ms/step - loss: 0.0779 - accuracy: 0.9994 - val_loss: 0.3296 - val_accuracy: 0.8842\n",
      "Epoch 20/50\n",
      "170/170 [==============================] - 15s 88ms/step - loss: 0.0769 - accuracy: 0.9985 - val_loss: 0.3221 - val_accuracy: 0.8872\n",
      "Epoch 21/50\n",
      "170/170 [==============================] - 14s 81ms/step - loss: 0.0781 - accuracy: 0.9991 - val_loss: 0.3510 - val_accuracy: 0.8722\n",
      "Epoch 22/50\n",
      "170/170 [==============================] - 14s 83ms/step - loss: 0.0725 - accuracy: 0.9991 - val_loss: 0.4128 - val_accuracy: 0.8486\n",
      "Epoch 23/50\n",
      "170/170 [==============================] - 14s 83ms/step - loss: 0.0708 - accuracy: 0.9993 - val_loss: 0.3415 - val_accuracy: 0.8747\n",
      "Epoch 24/50\n",
      "170/170 [==============================] - 14s 81ms/step - loss: 0.0705 - accuracy: 0.9994 - val_loss: 0.3353 - val_accuracy: 0.8760\n",
      "Epoch 25/50\n",
      "170/170 [==============================] - 14s 83ms/step - loss: 0.0670 - accuracy: 0.9998 - val_loss: 0.3418 - val_accuracy: 0.8769\n",
      "Epoch 26/50\n",
      "170/170 [==============================] - 14s 83ms/step - loss: 0.0648 - accuracy: 0.9996 - val_loss: 0.3184 - val_accuracy: 0.8859\n",
      "Epoch 27/50\n",
      "170/170 [==============================] - 14s 83ms/step - loss: 0.0617 - accuracy: 0.9998 - val_loss: 0.2732 - val_accuracy: 0.9073\n",
      "Epoch 28/50\n",
      "170/170 [==============================] - 14s 83ms/step - loss: 0.0606 - accuracy: 0.9998 - val_loss: 0.3028 - val_accuracy: 0.8842\n",
      "Epoch 29/50\n",
      "170/170 [==============================] - 14s 83ms/step - loss: 0.0594 - accuracy: 0.9996 - val_loss: 0.3237 - val_accuracy: 0.8829\n",
      "Epoch 30/50\n",
      "170/170 [==============================] - 14s 82ms/step - loss: 0.0587 - accuracy: 0.9994 - val_loss: 0.3129 - val_accuracy: 0.8876\n",
      "Epoch 31/50\n",
      "170/170 [==============================] - 14s 83ms/step - loss: 0.0571 - accuracy: 0.9996 - val_loss: 0.2985 - val_accuracy: 0.8927\n",
      "Epoch 32/50\n",
      "170/170 [==============================] - 14s 84ms/step - loss: 0.0550 - accuracy: 0.9998 - val_loss: 0.2910 - val_accuracy: 0.8940\n",
      "Epoch 33/50\n",
      "170/170 [==============================] - 14s 82ms/step - loss: 0.0555 - accuracy: 0.9998 - val_loss: 0.3790 - val_accuracy: 0.8657\n",
      "Epoch 34/50\n",
      "170/170 [==============================] - 14s 83ms/step - loss: 0.0528 - accuracy: 0.9996 - val_loss: 0.3466 - val_accuracy: 0.8726\n",
      "Epoch 35/50\n",
      "170/170 [==============================] - 14s 82ms/step - loss: 0.0526 - accuracy: 1.0000 - val_loss: 0.3012 - val_accuracy: 0.8906\n",
      "Epoch 36/50\n",
      "170/170 [==============================] - 14s 82ms/step - loss: 0.0510 - accuracy: 1.0000 - val_loss: 0.2800 - val_accuracy: 0.9009\n",
      "Epoch 37/50\n",
      "170/170 [==============================] - 15s 86ms/step - loss: 0.0502 - accuracy: 0.9998 - val_loss: 0.3102 - val_accuracy: 0.8833\n",
      "Epoch 38/50\n",
      "170/170 [==============================] - 14s 84ms/step - loss: 0.0484 - accuracy: 1.0000 - val_loss: 0.3004 - val_accuracy: 0.8919\n",
      "Epoch 39/50\n",
      "170/170 [==============================] - 14s 84ms/step - loss: 0.0455 - accuracy: 0.9998 - val_loss: 0.2915 - val_accuracy: 0.8915\n",
      "Epoch 40/50\n",
      "170/170 [==============================] - 18s 106ms/step - loss: 0.0482 - accuracy: 0.9998 - val_loss: 0.3043 - val_accuracy: 0.8910\n",
      "Epoch 41/50\n",
      "170/170 [==============================] - 18s 105ms/step - loss: 0.0461 - accuracy: 0.9998 - val_loss: 0.3428 - val_accuracy: 0.8786\n",
      "Epoch 42/50\n",
      "170/170 [==============================] - 20s 118ms/step - loss: 0.0427 - accuracy: 1.0000 - val_loss: 0.2991 - val_accuracy: 0.8923\n",
      "Epoch 43/50\n",
      "170/170 [==============================] - 21s 124ms/step - loss: 0.0423 - accuracy: 0.9998 - val_loss: 0.3127 - val_accuracy: 0.8842\n",
      "Epoch 44/50\n",
      "170/170 [==============================] - 17s 97ms/step - loss: 0.0408 - accuracy: 0.9998 - val_loss: 0.2975 - val_accuracy: 0.8897\n",
      "Epoch 45/50\n",
      "170/170 [==============================] - 15s 91ms/step - loss: 0.0389 - accuracy: 1.0000 - val_loss: 0.3372 - val_accuracy: 0.8829\n",
      "Epoch 46/50\n",
      "170/170 [==============================] - 15s 91ms/step - loss: 0.0398 - accuracy: 0.9998 - val_loss: 0.2977 - val_accuracy: 0.8932\n",
      "Epoch 47/50\n",
      "170/170 [==============================] - 16s 93ms/step - loss: 0.0376 - accuracy: 1.0000 - val_loss: 0.3402 - val_accuracy: 0.8752\n",
      "Epoch 48/50\n",
      "170/170 [==============================] - 15s 91ms/step - loss: 0.0386 - accuracy: 1.0000 - val_loss: 0.2983 - val_accuracy: 0.8915\n",
      "Epoch 49/50\n",
      "170/170 [==============================] - 15s 91ms/step - loss: 0.0351 - accuracy: 1.0000 - val_loss: 0.3451 - val_accuracy: 0.8704\n",
      "Epoch 50/50\n",
      "170/170 [==============================] - 16s 93ms/step - loss: 0.0358 - accuracy: 1.0000 - val_loss: 0.3128 - val_accuracy: 0.8833\n"
     ]
    }
   ],
   "source": [
    "history = model.fit(x=X, y=y_binary,\n",
    "                        epochs=50, batch_size=32,\n",
    "                        shuffle=True,\n",
    "                        validation_split=0.3,\n",
    "                        class_weight=class_weights,\n",
    "                        verbose=1)"
   ]
  },
  {
   "cell_type": "code",
   "execution_count": 51,
   "id": "91d22212-37d1-4619-975a-e652a4808f2f",
   "metadata": {},
   "outputs": [],
   "source": [
    "acc = history.history['accuracy']\n",
    "val_acc = history.history['val_accuracy']\n",
    "loss = history.history['loss']\n",
    "val_loss = history.history['val_loss']"
   ]
  },
  {
   "cell_type": "code",
   "execution_count": 52,
   "id": "41b9f580-4482-4948-9e10-02cc40e1926f",
   "metadata": {},
   "outputs": [
    {
     "data": {
      "image/png": "[encoded data removed]",
      "text/plain": [
       "<Figure size 432x288 with 1 Axes>"
      ]
     },
     "metadata": {
      "needs_background": "light"
     },
     "output_type": "display_data"
    },
    {
     "data": {
      "image/png": "[encoded data removed]",
      "text/plain": [
       "<Figure size 432x288 with 1 Axes>"
      ]
     },
     "metadata": {
      "needs_background": "light"
     },
     "output_type": "display_data"
    }
   ],
   "source": [
    "import matplotlib.pyplot as plt\n",
    "\n",
    "epochs = range(1, len(acc) + 1)\n",
    "\n",
    "plt.plot(epochs, acc, 'r', label='Training acc')\n",
    "plt.plot(epochs, val_acc, 'b', label='Validation acc')\n",
    "plt.title('Training and validation accuracy')\n",
    "plt.legend()\n",
    "\n",
    "plt.figure()\n",
    "\n",
    "plt.plot(epochs, loss, 'r', label='Training loss')\n",
    "plt.plot(epochs, val_loss, 'b', label='Validation loss')\n",
    "plt.title('Training and validation loss')\n",
    "plt.legend()\n",
    "\n",
    "plt.show()"
   ]
  },
  {
   "cell_type": "code",
   "execution_count": null,
   "id": "756b3bf4-c5fb-4c1c-b32f-95c62fe0fbf0",
   "metadata": {},
   "outputs": [],
   "source": []
  }
 ],
 "metadata": {
  "kernelspec": {
   "display_name": "Python 3 (ipykernel)",
   "language": "python",
   "name": "python3"
  },
  "language_info": {
   "codemirror_mode": {
    "name": "ipython",
    "version": 3
   },
   "file_extension": ".py",
   "mimetype": "text/x-python",
   "name": "python",
   "nbconvert_exporter": "python",
   "pygments_lexer": "ipython3",
   "version": "3.9.6"
  }
 },
 "nbformat": 4,
 "nbformat_minor": 5
}
