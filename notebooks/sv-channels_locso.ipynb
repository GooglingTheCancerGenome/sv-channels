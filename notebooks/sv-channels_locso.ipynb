{
 "cells": [
  {
   "cell_type": "code",
   "execution_count": 131,
   "id": "b508b5c7-7e04-434d-8f7b-93e34ec2df35",
   "metadata": {},
   "outputs": [],
   "source": [
    "import zarr\n",
    "import gzip\n",
    "import json\n",
    "import os\n",
    "import numpy as np"
   ]
  },
  {
   "cell_type": "code",
   "execution_count": 132,
   "id": "6b9af3a1-327f-468a-90cd-1699181b6736",
   "metadata": {},
   "outputs": [],
   "source": [
    "samples = os.listdir('svchan_data')"
   ]
  },
  {
   "cell_type": "code",
   "execution_count": 133,
   "id": "8066d500-daad-4300-9d88-0712d50a3c31",
   "metadata": {},
   "outputs": [
    {
     "data": {
      "text/plain": [
       "['HG01114',\n",
       " 'HG02924',\n",
       " 'NA06991',\n",
       " 'HG00420',\n",
       " 'HG03992',\n",
       " 'HG02018',\n",
       " 'HG01053',\n",
       " 'HG01881']"
      ]
     },
     "execution_count": 133,
     "metadata": {},
     "output_type": "execute_result"
    }
   ],
   "source": [
    "samples"
   ]
  },
  {
   "cell_type": "code",
   "execution_count": 134,
   "id": "e7e9ca5a-13b0-4d09-9b21-872f5966578d",
   "metadata": {},
   "outputs": [],
   "source": [
    "sample_out = 'HG00420'\n",
    "chr_out = 'chr3'"
   ]
  },
  {
   "cell_type": "code",
   "execution_count": 135,
   "id": "0afdbc81-f3b2-449d-b605-8ea37095aa2e",
   "metadata": {},
   "outputs": [],
   "source": [
    "X = []\n",
    "y = []\n",
    "win_pos = []\n",
    "samples_list = []\n",
    "\n",
    "for s in samples:\n",
    "    if s != sample_out:\n",
    "        w = os.path.join('svchan_data',s,'channels.zarr.zip')\n",
    "        l = os.path.join('svchan_data',s,'labels.json.gz')\n",
    "        \n",
    "        partial_X = zarr.load(w)\n",
    "        with gzip.GzipFile(l, 'r') as fin:\n",
    "            partial_y = json.loads(fin.read().decode('utf-8'))\n",
    "            \n",
    "        X.extend(partial_X)\n",
    "        y.extend(partial_y.values())\n",
    "        win_pos.extend(partial_y.keys())\n",
    "        # add sample name\n",
    "        samples_list.extend([s] * len(partial_y))\n",
    "\n",
    "X = np.stack(X, axis=0)\n",
    "y = np.array(y)"
   ]
  },
  {
   "cell_type": "code",
   "execution_count": 136,
   "id": "b5e4c46d-5e17-44c9-aa28-68d17d2d93b3",
   "metadata": {},
   "outputs": [],
   "source": [
    "first_chrom = [w.split('/')[0] for w in win_pos]"
   ]
  },
  {
   "cell_type": "code",
   "execution_count": 137,
   "id": "1de8de2a-edd8-40b7-ad98-8113d5553bd9",
   "metadata": {},
   "outputs": [
    {
     "data": {
      "text/plain": [
       "Counter({'noDEL': 72720, 'DEL': 16322})"
      ]
     },
     "execution_count": 137,
     "metadata": {},
     "output_type": "execute_result"
    }
   ],
   "source": [
    "from collections import Counter\n",
    "Counter(y)"
   ]
  },
  {
   "cell_type": "code",
   "execution_count": 138,
   "id": "ea3c85b9-ac54-405c-8366-b9bde9f0ae5b",
   "metadata": {},
   "outputs": [],
   "source": [
    "first_chrom = np.array(first_chrom)"
   ]
  },
  {
   "cell_type": "code",
   "execution_count": 139,
   "id": "b7bb0bc2-5d63-48de-b82f-124c53732d07",
   "metadata": {},
   "outputs": [],
   "source": [
    "X_nochr1 = X[first_chrom!=chr_out]\n",
    "y_nochr1 = y[first_chrom!=chr_out]"
   ]
  },
  {
   "cell_type": "code",
   "execution_count": 140,
   "id": "b417937e-49cf-4339-abd5-822f6f2d64de",
   "metadata": {},
   "outputs": [
    {
     "data": {
      "text/plain": [
       "(84991, 35, 256)"
      ]
     },
     "execution_count": 140,
     "metadata": {},
     "output_type": "execute_result"
    }
   ],
   "source": [
    "X_nochr1.shape"
   ]
  },
  {
   "cell_type": "code",
   "execution_count": 141,
   "id": "42c1af85-ea52-448f-826a-9cc535026067",
   "metadata": {},
   "outputs": [
    {
     "data": {
      "text/plain": [
       "(84991,)"
      ]
     },
     "execution_count": 141,
     "metadata": {},
     "output_type": "execute_result"
    }
   ],
   "source": [
    "y_nochr1.shape"
   ]
  },
  {
   "cell_type": "code",
   "execution_count": 142,
   "id": "d130f716-bb85-4437-a677-39bf18781b46",
   "metadata": {},
   "outputs": [
    {
     "data": {
      "text/plain": [
       "Counter({'noDEL': 69746, 'DEL': 15245})"
      ]
     },
     "execution_count": 142,
     "metadata": {},
     "output_type": "execute_result"
    }
   ],
   "source": [
    "Counter(y_nochr1)"
   ]
  },
  {
   "cell_type": "code",
   "execution_count": 143,
   "id": "c19f76a4-4d1a-45fb-a72a-623ccc0cc4cd",
   "metadata": {},
   "outputs": [],
   "source": [
    "w = os.path.join('svchan_data',sample_out,'channels.zarr.zip')\n",
    "l = os.path.join('svchan_data',sample_out,'labels.json.gz')\n",
    "\n",
    "X_i = zarr.load(w)\n",
    "with gzip.GzipFile(l, 'r') as fin:\n",
    "    y_partial = json.loads(fin.read().decode('utf-8'))\n",
    "    \n",
    "y_i = y_partial.values()\n",
    "win_pos_i = y_partial.keys()\n",
    "\n",
    "X_i = np.array(X_i)\n",
    "y_i = np.array(list(y_i))"
   ]
  },
  {
   "cell_type": "code",
   "execution_count": 144,
   "id": "7579d97b-0fa6-460d-a083-95df994e4d8b",
   "metadata": {},
   "outputs": [],
   "source": [
    "first_chrom_i = [w.split('/')[0] for w in win_pos_i]\n",
    "first_chrom_i = np.array(first_chrom_i)"
   ]
  },
  {
   "cell_type": "code",
   "execution_count": 145,
   "id": "18f286f9-e68a-4fed-8367-0fa46b156602",
   "metadata": {},
   "outputs": [
    {
     "data": {
      "text/plain": [
       "(534, 35, 256)"
      ]
     },
     "execution_count": 145,
     "metadata": {},
     "output_type": "execute_result"
    }
   ],
   "source": [
    "X_chr1 = X_i[first_chrom_i==chr_out]\n",
    "#y_chr1 = y_i[first_chrom_i=='chr1']\n",
    "X_chr1.shape"
   ]
  },
  {
   "cell_type": "code",
   "execution_count": 146,
   "id": "acc7c308-dc46-423c-92da-957fff868756",
   "metadata": {},
   "outputs": [
    {
     "data": {
      "text/plain": [
       "(534,)"
      ]
     },
     "execution_count": 146,
     "metadata": {},
     "output_type": "execute_result"
    }
   ],
   "source": [
    "y_chr1 = y_i[first_chrom_i==chr_out]\n",
    "y_chr1.shape"
   ]
  },
  {
   "cell_type": "code",
   "execution_count": 147,
   "id": "1136454c-27f0-4532-a899-83ee74d2fb7c",
   "metadata": {},
   "outputs": [],
   "source": [
    "from tensorflow.keras.regularizers import l2\n",
    "from tensorflow.keras.optimizers import Adam\n",
    "from tensorflow.keras.layers import (Activation, BatchNormalization,\n",
    "                                     Convolution1D, Dense, Flatten,\n",
    "                                     Dropout)\n",
    "from tensorflow.keras.models import Sequential\n",
    "\n",
    "def create_model(X, outputdim, learning_rate, regularization_rate,\n",
    "                 filters, layers, kernel_size, fc_nodes):\n",
    "    weightinit = 'lecun_uniform'  # weight initialization\n",
    "\n",
    "    model = Sequential()\n",
    "\n",
    "    model.add(BatchNormalization(input_shape=(X.shape[1], X.shape[2])))\n",
    "\n",
    "    filters_list = [filters] * layers\n",
    "\n",
    "    for filter_number in filters_list:\n",
    "        model.add(\n",
    "            Convolution1D(filter_number,\n",
    "                          kernel_size=(kernel_size,),\n",
    "                          padding='same',\n",
    "                          kernel_regularizer=l2(regularization_rate),\n",
    "                          kernel_initializer=weightinit))\n",
    "        model.add(BatchNormalization())\n",
    "        model.add(Activation('relu'))\n",
    "        model.add(Dropout(rate=0.2))\n",
    "\n",
    "    model.add(Flatten())\n",
    "\n",
    "    model.add(\n",
    "        Dense(units=fc_nodes,\n",
    "              kernel_regularizer=l2(regularization_rate),\n",
    "              kernel_initializer=weightinit))  # Fully connected layer\n",
    "    model.add(Activation('relu'))  # Relu activation\n",
    "    model.add(Dropout(rate=0.2))\n",
    "\n",
    "    model.add(Dense(units=outputdim, kernel_initializer=weightinit))\n",
    "    model.add(BatchNormalization())\n",
    "    model.add(Activation(\"sigmoid\"))  # Final classification layer\n",
    "\n",
    "    model.compile(loss='categorical_crossentropy',\n",
    "                  optimizer=Adam(lr=learning_rate),\n",
    "                  metrics=['accuracy'])\n",
    "\n",
    "    return model"
   ]
  },
  {
   "cell_type": "code",
   "execution_count": 148,
   "id": "be8184e9-7c28-4789-9fe7-65650cf03174",
   "metadata": {},
   "outputs": [],
   "source": [
    "learning_rate = 1e-4\n",
    "regularization_rate = 1e-1\n",
    "filters = 4\n",
    "layers = 1\n",
    "kernel_size = 7 \n",
    "fc_nodes = 4\n",
    "outputdim = 2"
   ]
  },
  {
   "cell_type": "code",
   "execution_count": 149,
   "id": "1e6e32e3-a0db-40ec-8271-8c3fe4080a00",
   "metadata": {},
   "outputs": [
    {
     "name": "stderr",
     "output_type": "stream",
     "text": [
      "/Users/lsantuari/Applications/Programming/mambaforge/envs/jupyterlab/lib/python3.9/site-packages/sklearn/utils/validation.py:70: FutureWarning: Pass classes=[0 1], y=[1 1 1 ... 1 1 1] as keyword args. From version 1.0 (renaming of 0.25) passing these as positional arguments will result in an error\n",
      "  warnings.warn(f\"Pass {args_msg} as keyword args. From version \"\n"
     ]
    }
   ],
   "source": [
    "from sklearn.utils.class_weight import compute_class_weight\n",
    "from tensorflow.keras.utils import to_categorical\n",
    "\n",
    "mapclasses = {'DEL': 0, 'noDEL': 1}\n",
    "y_lab = np.array([mapclasses[i] for i in y_nochr1])\n",
    "classes = np.array(np.unique(y_lab))\n",
    "class_weights = compute_class_weight('balanced', classes, y_lab)\n",
    "class_weights = {i: v for i, v in enumerate(class_weights)}\n",
    "train_y = to_categorical(y_lab, num_classes=2)"
   ]
  },
  {
   "cell_type": "code",
   "execution_count": 150,
   "id": "f932f1e0-25b4-4611-b145-43e808f1c98a",
   "metadata": {},
   "outputs": [
    {
     "name": "stdout",
     "output_type": "stream",
     "text": [
      "Model: \"sequential_4\"\n",
      "_________________________________________________________________\n",
      "Layer (type)                 Output Shape              Param #   \n",
      "=================================================================\n",
      "batch_normalization_12 (Batc (None, 35, 256)           1024      \n",
      "_________________________________________________________________\n",
      "conv1d_4 (Conv1D)            (None, 35, 4)             7172      \n",
      "_________________________________________________________________\n",
      "batch_normalization_13 (Batc (None, 35, 4)             16        \n",
      "_________________________________________________________________\n",
      "activation_12 (Activation)   (None, 35, 4)             0         \n",
      "_________________________________________________________________\n",
      "dropout_8 (Dropout)          (None, 35, 4)             0         \n",
      "_________________________________________________________________\n",
      "flatten_4 (Flatten)          (None, 140)               0         \n",
      "_________________________________________________________________\n",
      "dense_8 (Dense)              (None, 4)                 564       \n",
      "_________________________________________________________________\n",
      "activation_13 (Activation)   (None, 4)                 0         \n",
      "_________________________________________________________________\n",
      "dropout_9 (Dropout)          (None, 4)                 0         \n",
      "_________________________________________________________________\n",
      "dense_9 (Dense)              (None, 2)                 10        \n",
      "_________________________________________________________________\n",
      "batch_normalization_14 (Batc (None, 2)                 8         \n",
      "_________________________________________________________________\n",
      "activation_14 (Activation)   (None, 2)                 0         \n",
      "=================================================================\n",
      "Total params: 8,794\n",
      "Trainable params: 8,270\n",
      "Non-trainable params: 524\n",
      "_________________________________________________________________\n",
      "None\n"
     ]
    }
   ],
   "source": [
    "model = create_model(X_nochr1, 2,\n",
    "                     learning_rate,\n",
    "                     regularization_rate,\n",
    "                     filters,\n",
    "                     layers,\n",
    "                     kernel_size,\n",
    "                     fc_nodes)\n",
    "print(model.summary())"
   ]
  },
  {
   "cell_type": "code",
   "execution_count": null,
   "id": "b385d349-74d5-4921-8be7-382ff2584104",
   "metadata": {},
   "outputs": [
    {
     "name": "stdout",
     "output_type": "stream",
     "text": [
      "Epoch 1/50\n",
      "1860/1860 [==============================] - 22s 11ms/step - loss: 0.9889 - accuracy: 0.7937 - val_loss: 0.5294 - val_accuracy: 0.9128\n",
      "Epoch 2/50\n",
      "1860/1860 [==============================] - 20s 11ms/step - loss: 0.4247 - accuracy: 0.9044 - val_loss: 0.4629 - val_accuracy: 0.8767\n",
      "Epoch 3/50\n",
      "1860/1860 [==============================] - 23s 12ms/step - loss: 0.3459 - accuracy: 0.9081 - val_loss: 0.3004 - val_accuracy: 0.9547\n",
      "Epoch 4/50\n",
      "1860/1860 [==============================] - 22s 12ms/step - loss: 0.3049 - accuracy: 0.9159 - val_loss: 0.2822 - val_accuracy: 0.9507\n",
      "Epoch 5/50\n",
      "1860/1860 [==============================] - 20s 11ms/step - loss: 0.2939 - accuracy: 0.9141 - val_loss: 0.3493 - val_accuracy: 0.9449\n",
      "Epoch 6/50\n",
      "1860/1860 [==============================] - 19s 10ms/step - loss: 0.2855 - accuracy: 0.9137 - val_loss: 0.3051 - val_accuracy: 0.9371\n",
      "Epoch 7/50\n",
      "1860/1860 [==============================] - 19s 10ms/step - loss: 0.2738 - accuracy: 0.9168 - val_loss: 0.2352 - val_accuracy: 0.9514\n",
      "Epoch 8/50\n",
      "1860/1860 [==============================] - 20s 11ms/step - loss: 0.2644 - accuracy: 0.9258 - val_loss: 0.2500 - val_accuracy: 0.9435\n",
      "Epoch 9/50\n",
      "1860/1860 [==============================] - 19s 10ms/step - loss: 0.2639 - accuracy: 0.9226 - val_loss: 0.2292 - val_accuracy: 0.9584\n",
      "Epoch 10/50\n",
      "1860/1860 [==============================] - 19s 10ms/step - loss: 0.2592 - accuracy: 0.9265 - val_loss: 0.2546 - val_accuracy: 0.9366\n",
      "Epoch 11/50\n",
      "1860/1860 [==============================] - 19s 10ms/step - loss: 0.2568 - accuracy: 0.9257 - val_loss: 0.2003 - val_accuracy: 0.9529\n",
      "Epoch 12/50\n",
      "1860/1860 [==============================] - 19s 10ms/step - loss: 0.2545 - accuracy: 0.9288 - val_loss: 0.2645 - val_accuracy: 0.9293\n",
      "Epoch 13/50\n",
      "1860/1860 [==============================] - 20s 11ms/step - loss: 0.2498 - accuracy: 0.9303 - val_loss: 0.2492 - val_accuracy: 0.9317\n",
      "Epoch 14/50\n",
      "1860/1860 [==============================] - 18s 10ms/step - loss: 0.2544 - accuracy: 0.9285 - val_loss: 0.2907 - val_accuracy: 0.9327\n",
      "Epoch 15/50\n",
      "1860/1860 [==============================] - 21s 11ms/step - loss: 0.2528 - accuracy: 0.9288 - val_loss: 0.1918 - val_accuracy: 0.9556\n",
      "Epoch 16/50\n",
      "1860/1860 [==============================] - 21s 11ms/step - loss: 0.2515 - accuracy: 0.9278 - val_loss: 0.2822 - val_accuracy: 0.9384\n",
      "Epoch 17/50\n",
      " 956/1860 [==============>...............] - ETA: 8s - loss: 0.2573 - accuracy: 0.9274"
     ]
    }
   ],
   "source": [
    "history = model.fit(x=X_nochr1, y=train_y,\n",
    "                    epochs=50, batch_size=32,\n",
    "                    shuffle=True,\n",
    "                    validation_split=0.3,\n",
    "                    class_weight=class_weights)"
   ]
  },
  {
   "cell_type": "code",
   "execution_count": null,
   "id": "327bfb69-ac01-418f-b28d-1b6d053764a8",
   "metadata": {},
   "outputs": [],
   "source": [
    "model.save('model_'+sample_out+'_'+chr_out'.h5')"
   ]
  },
  {
   "cell_type": "code",
   "execution_count": null,
   "id": "f23d173a-3e88-4e4c-ac58-7794db13be67",
   "metadata": {},
   "outputs": [],
   "source": [
    "y_i_lab = np.array([mapclasses[i] for i in y_chr1])\n",
    "test_y = to_categorical(y_i_lab, num_classes=2)"
   ]
  },
  {
   "cell_type": "code",
   "execution_count": null,
   "id": "4d32a782-1e41-4847-a2c5-7713f8f47d3e",
   "metadata": {},
   "outputs": [],
   "source": [
    "import pandas as pd\n",
    "class_labels = ['DEL', 'noDEL']\n",
    "probs = model.predict(X_chr1, batch_size=1000, verbose=False)\n",
    "# columns are predicted, rows are truth\n",
    "predicted = probs.argmax(axis=1)\n",
    "print(f\"predicted shape: {predicted.shape}\")\n",
    "y_index = test_y.argmax(axis=1)\n",
    "confusion_matrix = pd.crosstab(pd.Series(y_index), pd.Series(predicted))\n",
    "confusion_matrix.index = ['true_'+class_labels[i] for i in confusion_matrix.index]\n",
    "confusion_matrix.columns = ['predicted_'+class_labels[i]\n",
    "                            for i in confusion_matrix.columns]\n",
    "confusion_matrix.reindex(columns=class_labels, fill_value=0)\n",
    "confusion_matrix.to_csv(sample_out+'_'+chr_out+'_confusion_matrix.csv')"
   ]
  },
  {
   "cell_type": "code",
   "execution_count": null,
   "id": "cbae1bcf-2b1f-48f5-8f0a-873f83c8c331",
   "metadata": {},
   "outputs": [],
   "source": [
    "confusion_matrix"
   ]
  },
  {
   "cell_type": "code",
   "execution_count": null,
   "id": "70d1254b-3c47-450a-a010-cc7b5e2d90ff",
   "metadata": {},
   "outputs": [],
   "source": [
    "Counter(y_chr1)"
   ]
  },
  {
   "cell_type": "code",
   "execution_count": null,
   "id": "928fb960-3577-4804-803c-27a7ef885bdd",
   "metadata": {},
   "outputs": [],
   "source": []
  }
 ],
 "metadata": {
  "kernelspec": {
   "display_name": "Python 3 (ipykernel)",
   "language": "python",
   "name": "python3"
  },
  "language_info": {
   "codemirror_mode": {
    "name": "ipython",
    "version": 3
   },
   "file_extension": ".py",
   "mimetype": "text/x-python",
   "name": "python",
   "nbconvert_exporter": "python",
   "pygments_lexer": "ipython3",
   "version": "3.9.6"
  }
 },
 "nbformat": 4,
 "nbformat_minor": 5
}
